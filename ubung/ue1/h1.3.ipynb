{
 "cells": [
  {
   "cell_type": "code",
   "execution_count": 6,
   "metadata": {},
   "outputs": [
    {
     "name": "stdout",
     "output_type": "stream",
     "text": [
      "Der Ammersee ist einer der am besten untersuchten Seen Bayerns. Seine Wasserqualität wird vor allem vom aus den Kalkalpen kommenden Hauptzufluss Ammer bestimmt. Die Ammer entwässert rund drei Viertel des knapp 1.000 km² großen Einzugsgebietes. Ihr mittlerer Abfluss wird mit 16,6 m³/s beziffert (Pegel Fischen, Jahresreihe 1941/1989). Bei besonderen Wetterbedingungen, etwa wenn die Schneeschmelze mit anhaltend starkem Dauerregen einhergeht, kann der Abfluss auf bis zu 600 m³/s ansteigen und stark von Schwebstoffen getrübt sein. Am Ende einer lang dauernden Trockenperiode sinkt der Zufluss aus der Ammer bisweilen auf unter 3 m³/s. Die Amper als Abfluss des Sees führt bei einem mittleren Wasserstand von 140 cm am Pegel Stegen, (Jahresreihe 1975/1994) durchschnittlich 21,1 m³ Wasser pro Sekunde ab. Die schwach ausgeprägten Niedrigwasserstände der Amper – der niedrigste gemessene Wasserstand betrug 119 cm am 14. August 1994 – belegen die starke Retentionswirkung (Rückhalte- und Speicherfunktion) des Ammersees. Der mittlere Hochwasserstand von 195 cm (Pegel Stegen, Jahresreihe 1975/1994) kann allerdings bei extremen Wetterereignissen deutlich überschritten werden, der höchste je gemessene Wasserstand betrug 337 cm am 27. Mai 1999. Bei Hochwasser dienen die im Norden und Süden angrenzenden Verlandungszonen als weiträumige Überflutungsfläche und bilden damit einen wirksamen Schutz vor Hochwasser. Vor allem die abwärts an der Amper gelegenen Orte gewinnen Sicherheit durch diese Schutzfunktion, da die teilweise extremen Hochwasserspitzen der Ammer den See stark gemildert und zeitlich gestreckt verlassen. \n",
      "\n"
     ]
    }
   ],
   "source": [
    "import re\n",
    "from pprint import pprint\n",
    "\n",
    "# Import string from ./data/ammersee.txt\n",
    "text = open('data/ammersee.txt').read()\n",
    "print(text)"
   ]
  },
  {
   "cell_type": "code",
   "execution_count": 14,
   "metadata": {},
   "outputs": [
    {
     "name": "stdout",
     "output_type": "stream",
     "text": [
      "['Der Ammersee ist einer der am besten untersuchten Seen Bayerns.', 'Seine Wasserqualität wird vor allem vom aus den Kalkalpen kommenden Hauptzufluss Ammer bestimmt.', 'Die Ammer entwässert rund drei Viertel des knapp 1.000 km² großen Einzugsgebietes.', 'Ihr mittlerer Abfluss wird mit 16,6 m³/s beziffert (Pegel Fischen, Jahresreihe 1941/1989).', 'Bei besonderen Wetterbedingungen, etwa wenn die Schneeschmelze mit anhaltend starkem Dauerregen einhergeht, kann der Abfluss auf bis zu 600 m³/s ansteigen und stark von Schwebstoffen getrübt sein.', 'Am Ende einer lang dauernden Trockenperiode sinkt der Zufluss aus der Ammer bisweilen auf unter 3 m³/s.', 'Die Amper als Abfluss des Sees führt bei einem mittleren Wasserstand von 140 cm am Pegel Stegen, (Jahresreihe 1975/1994) durchschnittlich 21,1 m³ Wasser pro Sekunde ab.', 'Die schwach ausgeprägten Niedrigwasserstände der Amper – der niedrigste gemessene Wasserstand betrug 119 cm am 14.', 'August 1994 – belegen die starke Retentionswirkung (Rückhalte- und Speicherfunktion) des Ammersees.', 'Der mittlere Hochwasserstand von 195 cm (Pegel Stegen, Jahresreihe 1975/1994) kann allerdings bei extremen Wetterereignissen deutlich überschritten werden, der höchste je gemessene Wasserstand betrug 337 cm am 27.', 'Mai 1999.', 'Bei Hochwasser dienen die im Norden und Süden angrenzenden Verlandungszonen als weiträumige Überflutungsfläche und bilden damit einen wirksamen Schutz vor Hochwasser.', 'Vor allem die abwärts an der Amper gelegenen Orte gewinnen Sicherheit durch diese Schutzfunktion, da die teilweise extremen Hochwasserspitzen der Ammer den See stark gemildert und zeitlich gestreckt verlassen.']\n",
      "['Der', 'Ammersee', 'ist', 'einer', 'der', 'am', 'besten', 'untersuchten', 'Seen', 'Bayerns', '.']\n",
      "{'21,1', 'Ammersees', 'Amper', 'einer', 'gemildert', 'überschritten', 'kann', 'am', 'extremen', 'lang', '337', 'Jahresreihe', 'm³', 'dienen', 'getrübt', 'sein', 'mittleren', 'allem', 'Wasser', 'unter', 'zu', 'Wasserstand', 'Dauerregen', 'allerdings', 'einhergeht', 'Viertel', 'beziffert', 'Bayerns', 'sinkt', 'rund', 'bilden', 'betrug', 'wirksamen', 'Seine', 'Pegel', 'Schneeschmelze', 'Norden', 'Wasserqualität', ')', 'starkem', 'Süden', 'durch', 'zeitlich', 'cm', 'höchste', 'Der', 'dauernden', 'gelegenen', 'Am', 'damit', 'Ammer', 'besonderen', 'starke', 'Überflutungsfläche', '3', 'Stegen', 'Ihr', 'ansteigen', 'schwach', 'Bei', 'vor', 'Wetterbedingungen', 'ab', 'verlassen', 'Mai', '(', 'wenn', 'km²', '140', 'Hochwasserstand', 'bei', 'ist', 'kommenden', 'von', 'teilweise', 'untersuchten', 'gewinnen', 'Sicherheit', 'm³/s', 'abwärts', 'mit', 'Rückhalte-', 'deutlich', 'der', '119', '1941/1989', 'Sekunde', 'Einzugsgebietes', 'Hochwasserspitzen', 'belegen', 'und', 'Seen', 'diese', 'einem', '–', 'Trockenperiode', 'an', 'Retentionswirkung', 'führt', 'entwässert', 'Schutzfunktion', 'mittlere', 'vom', 'einen', 'die', 'des', 'da', 'ausgeprägten', 'auf', 'großen', 'mittlerer', ',', 'Schwebstoffen', 'niedrigste', 'Ende', 'angrenzenden', 'August', '195', '1999', '.', 'bis', '27', 'Sees', '1975/1994', 'Speicherfunktion', 'je', 'Zufluss', 'Niedrigwasserstände', 'wird', 'aus', 'als', 'Abfluss', 'Hauptzufluss', 'stark', 'Wetterereignissen', 'werden', 'knapp', 'den', 'pro', 'Schutz', 'Ammersee', 'Fischen', 'bestimmt', 'durchschnittlich', '600', 'Kalkalpen', 'anhaltend', 'etwa', 'bisweilen', 'drei', 'Die', '14', 'See', 'gemessene', '1994', 'Vor', 'Verlandungszonen', '1.000', 'im', 'Hochwasser', 'gestreckt', 'Orte', 'weiträumige', 'besten', '16,6'}\n"
     ]
    }
   ],
   "source": [
    "from nltk.tokenize import word_tokenize, sent_tokenize\n",
    "\n",
    "sentence = sent_tokenize(text)\n",
    "print(sentence)\n",
    "\n",
    "# Tokenize the first sentence\n",
    "tokenized_sentence = word_tokenize(sentence[0])\n",
    "print(tokenized_sentence)\n",
    "\n",
    "# Tokenize the text\n",
    "unique_tokens = set(word_tokenize(text))\n",
    "# Why set? Because we want to remove duplicates\n",
    "print(unique_tokens)"
   ]
  }
 ],
 "metadata": {
  "kernelspec": {
   "display_name": "Python 3",
   "language": "python",
   "name": "python3"
  },
  "language_info": {
   "codemirror_mode": {
    "name": "ipython",
    "version": 3
   },
   "file_extension": ".py",
   "mimetype": "text/x-python",
   "name": "python",
   "nbconvert_exporter": "python",
   "pygments_lexer": "ipython3",
   "version": "3.11.7"
  }
 },
 "nbformat": 4,
 "nbformat_minor": 2
}
